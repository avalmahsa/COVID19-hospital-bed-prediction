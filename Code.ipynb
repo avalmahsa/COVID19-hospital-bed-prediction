{
 "cells": [
  {
   "cell_type": "markdown",
   "metadata": {
    "colab_type": "text",
    "id": "sVO8MSQUdktn"
   },
   "source": [
    "# Notebook Info\n",
    "### Loading Data (colab)\n",
    "* **need** to authenticate with google drive\n",
    "* run all nodes upto data prep\n",
    "\n",
    "### Loading Data (jupyter)\n",
    "* dont import gdrive data loading packages\n",
    "* skip setup and data loading section\n",
    "* update choose dataset section to point at local files"
   ]
  },
  {
   "cell_type": "markdown",
   "metadata": {
    "colab_type": "text",
    "id": "yhUGjdgvSh0P"
   },
   "source": [
    "## Imports"
   ]
  },
  {
   "cell_type": "code",
   "execution_count": 2,
   "metadata": {
    "colab": {},
    "colab_type": "code",
    "id": "22kbH7YI4ymz"
   },
   "outputs": [],
   "source": [
    "#set ranndomness for tensorflow model\n",
    "import numpy as np\n",
    "import tensorflow as tf\n",
    "np.random.seed(42)\n",
    "tf.random.set_seed(42)"
   ]
  },
  {
   "cell_type": "code",
   "execution_count": 3,
   "metadata": {
    "colab": {},
    "colab_type": "code",
    "id": "LS4QfwK3SWu3"
   },
   "outputs": [],
   "source": [
    "#general libraries\n",
    "import os\n",
    "import pandas as pd\n",
    "import math as math\n",
    "\n",
    "#neural network\n",
    "import tensorflow.keras as keras"
   ]
  },
  {
   "cell_type": "markdown",
   "metadata": {
    "colab_type": "text",
    "id": "8iG9PZ5dS9H3"
   },
   "source": [
    "## GDrive Setup"
   ]
  },
  {
   "cell_type": "code",
   "execution_count": null,
   "metadata": {
    "colab": {},
    "colab_type": "code",
    "id": "jwQcfqGpaTZ_"
   },
   "outputs": [],
   "source": [
    "#gdrive data loading\n",
    "from pydrive.auth import GoogleAuth\n",
    "from pydrive.drive import GoogleDrive\n",
    "from google.colab import auth\n",
    "from oauth2client.client import GoogleCredentials"
   ]
  },
  {
   "cell_type": "code",
   "execution_count": 3,
   "metadata": {
    "colab": {},
    "colab_type": "code",
    "id": "m_Lg7n4zS-3W"
   },
   "outputs": [],
   "source": [
    "#authenticate google drive\n",
    "auth.authenticate_user()\n",
    "gauth = GoogleAuth()\n",
    "gauth.credentials = GoogleCredentials.get_application_default()\n",
    "drive = GoogleDrive(gauth)"
   ]
  },
  {
   "cell_type": "markdown",
   "metadata": {
    "colab_type": "text",
    "id": "dK8O3AlVTEIY"
   },
   "source": [
    "## GDrive Data loading"
   ]
  },
  {
   "cell_type": "code",
   "execution_count": 4,
   "metadata": {
    "colab": {
     "base_uri": "https://localhost:8080/",
     "height": 289
    },
    "colab_type": "code",
    "id": "i8HhbhsSTK4N",
    "outputId": "8934f6d0-95a6-48c6-f60c-482464518026"
   },
   "outputs": [
    {
     "name": "stdout",
     "output_type": "stream",
     "text": [
      "title: BMIF3-FAT_DAILY.csv, id: 1yeofepBWSgKiRQ3mWSm9Di5nbas6V8yQ\n",
      "downloading to /root/data/BMIF3-FAT_DAILY.csv\n",
      "title: BMIF4_future_trends.csv, id: 1EHmKML2O8FqL414t77-0TmxYhfUvnHEL\n",
      "downloading to /root/data/BMIF4_future_trends.csv\n",
      "title: BMIF5_future_trends.csv, id: 1-U5JpzHxhNUYJc9Tcuy7p3qthmIz61EG\n",
      "downloading to /root/data/BMIF5_future_trends.csv\n",
      "title: BMIF5.csv, id: 1v5axnBAniBTAdmAlPsBR-YQWBL1LyoRJ\n",
      "downloading to /root/data/BMIF5.csv\n",
      "title: BMIF4.csv, id: 1NQCcoVK6i-TfSIQM8dnhveUqWaXHsMP2\n",
      "downloading to /root/data/BMIF4.csv\n",
      "title: BMIF1.csv, id: 1xiy-NG6YurNX7hh0ciqYBEZ0LLmMhskL\n",
      "downloading to /root/data/BMIF1.csv\n",
      "title: BMIF3.csv, id: 1QlIYBSJ8VNamT_QLExjzv5UvrWtFJKbl\n",
      "downloading to /root/data/BMIF3.csv\n",
      "title: BMIF2.csv, id: 1c6D7ZFx1qjZKI7MP-_0BAAQ2umQ7SjSM\n",
      "downloading to /root/data/BMIF2.csv\n"
     ]
    }
   ],
   "source": [
    "# choose a local (colab) directory to store the data.\n",
    "local_download_path = os.path.expanduser('~/data')\n",
    "try:\n",
    "  os.makedirs(local_download_path)\n",
    "except: pass\n",
    "\n",
    "# 2. Auto-iterate using the query syntax\n",
    "#    https://developers.google.com/drive/v2/web/search-parameters\n",
    "file_list = drive.ListFile(\n",
    "    {'q': \"'1rpVjQD4ct5ddvGLbUUaYd0X9p8XPV1US' in parents\"}).GetList()\n",
    "\n",
    "for f in file_list:\n",
    "  # 3. Create & download by id.\n",
    "  print('title: %s, id: %s' % (f['title'], f['id']))\n",
    "  fname = os.path.join(local_download_path, f['title'])\n",
    "  print('downloading to {}'.format(fname))\n",
    "  f_ = drive.CreateFile({'id': f['id']})\n",
    "  f_.GetContentFile(fname)"
   ]
  },
  {
   "cell_type": "markdown",
   "metadata": {
    "colab_type": "text",
    "id": "u8UcEa3M2wM_"
   },
   "source": [
    "### Choose dataset\n",
    "- only run one cell below"
   ]
  },
  {
   "cell_type": "code",
   "execution_count": 5,
   "metadata": {
    "colab": {},
    "colab_type": "code",
    "id": "zxqlzbWiTv5F"
   },
   "outputs": [],
   "source": [
    "df_raw = pd.read_csv(\"data/BMIF1.csv\") # normal data with nothing special "
   ]
  },
  {
   "cell_type": "code",
   "execution_count": 19,
   "metadata": {
    "colab": {},
    "colab_type": "code",
    "id": "GmuQVJoy22n4"
   },
   "outputs": [],
   "source": [
    "df_raw = pd.read_csv(\"data/BMIF2.csv\") # updated day of year to days since first case\n",
    "                                             # updated mandate columns to treat end period seperately (qualatative multinomial)"
   ]
  },
  {
   "cell_type": "code",
   "execution_count": 24,
   "metadata": {
    "colab": {},
    "colab_type": "code",
    "id": "EMxB6UE02ETq"
   },
   "outputs": [],
   "source": [
    "df_raw = pd.read_csv(\"data/BMIF3.csv\") # BMIF2 + Fatality rate as target attribute"
   ]
  },
  {
   "cell_type": "markdown",
   "metadata": {
    "colab_type": "text",
    "id": "luEofPfP240p"
   },
   "source": [
    "### Peek into data"
   ]
  },
  {
   "cell_type": "code",
   "execution_count": 6,
   "metadata": {
    "colab": {
     "base_uri": "https://localhost:8080/",
     "height": 476
    },
    "colab_type": "code",
    "id": "qq_9utETUPog",
    "outputId": "bf0d6a2d-ac89-450b-c263-2dd94e639a32"
   },
   "outputs": [
    {
     "name": "stdout",
     "output_type": "stream",
     "text": [
      "  ﻿Country Name  Day of year  total_tests  active_cases  travel_limit  \\\n",
      "0   Afghanistan           35          0.0           0.0             0   \n",
      "1   Afghanistan           36          0.0           0.0             0   \n",
      "2   Afghanistan           37          0.0           0.0             0   \n",
      "3   Afghanistan           38          0.0           0.0             0   \n",
      "4   Afghanistan           39          0.0           0.0             0   \n",
      "\n",
      "   stay_home  edu_fac_closed  any_gathering_restrict  any_business_closed  \\\n",
      "0          0               0                       0                    0   \n",
      "1          0               0                       0                    0   \n",
      "2          0               0                       0                    0   \n",
      "3          0               0                       0                    0   \n",
      "4          0               0                       0                    0   \n",
      "\n",
      "   non-ess_business_closed  available_beds  \n",
      "0                        0        0.013391  \n",
      "1                        0        0.013391  \n",
      "2                        0        0.013391  \n",
      "3                        0        0.013391  \n",
      "4                        0        0.013391  \n",
      "<class 'pandas.core.frame.DataFrame'>\n",
      "RangeIndex: 23220 entries, 0 to 23219\n",
      "Data columns (total 11 columns):\n",
      " #   Column                   Non-Null Count  Dtype  \n",
      "---  ------                   --------------  -----  \n",
      " 0   ﻿Country Name            23220 non-null  object \n",
      " 1   Day of year              23220 non-null  int64  \n",
      " 2   total_tests              23220 non-null  float64\n",
      " 3   active_cases             23220 non-null  float64\n",
      " 4   travel_limit             23220 non-null  int64  \n",
      " 5   stay_home                23220 non-null  int64  \n",
      " 6   edu_fac_closed           23220 non-null  int64  \n",
      " 7   any_gathering_restrict   23220 non-null  int64  \n",
      " 8   any_business_closed      23220 non-null  int64  \n",
      " 9   non-ess_business_closed  23220 non-null  int64  \n",
      " 10  available_beds           23220 non-null  float64\n",
      "dtypes: float64(3), int64(7), object(1)\n",
      "memory usage: 1.9+ MB\n",
      "None\n"
     ]
    }
   ],
   "source": [
    "print(df_raw.head())\n",
    "print(df_raw.info())"
   ]
  },
  {
   "cell_type": "markdown",
   "metadata": {
    "colab_type": "text",
    "id": "I_awx0NnVIke"
   },
   "source": [
    "## Data prep"
   ]
  },
  {
   "cell_type": "code",
   "execution_count": 133,
   "metadata": {
    "colab": {
     "base_uri": "https://localhost:8080/",
     "height": 473
    },
    "colab_type": "code",
    "id": "nivSmfjq89aY",
    "outputId": "c56acf7a-29d7-42b8-fa4d-9cc29a0609ed"
   },
   "outputs": [
    {
     "data": {
      "text/html": [
       "<div>\n",
       "<style scoped>\n",
       "    .dataframe tbody tr th:only-of-type {\n",
       "        vertical-align: middle;\n",
       "    }\n",
       "\n",
       "    .dataframe tbody tr th {\n",
       "        vertical-align: top;\n",
       "    }\n",
       "\n",
       "    .dataframe thead th {\n",
       "        text-align: right;\n",
       "    }\n",
       "</style>\n",
       "<table border=\"1\" class=\"dataframe\">\n",
       "  <thead>\n",
       "    <tr style=\"text-align: right;\">\n",
       "      <th></th>\n",
       "      <th>Day of year(first case)</th>\n",
       "      <th>total_tests</th>\n",
       "      <th>active_cases</th>\n",
       "      <th>travel_limit</th>\n",
       "      <th>available_beds</th>\n",
       "      <th>stay_home</th>\n",
       "      <th>any_gathering_restrict</th>\n",
       "      <th>any_business_closed</th>\n",
       "      <th>educational_fac_closed</th>\n",
       "      <th>all_non-ess_business_closed</th>\n",
       "      <th>Iteration (#1)</th>\n",
       "      <th>﻿Country Name</th>\n",
       "      <th>fatality_rate</th>\n",
       "    </tr>\n",
       "  </thead>\n",
       "  <tbody>\n",
       "    <tr>\n",
       "      <th>0</th>\n",
       "      <td>-20</td>\n",
       "      <td>0.000000</td>\n",
       "      <td>0.000000</td>\n",
       "      <td>0</td>\n",
       "      <td>0.013391</td>\n",
       "      <td>0</td>\n",
       "      <td>0</td>\n",
       "      <td>0</td>\n",
       "      <td>0</td>\n",
       "      <td>0</td>\n",
       "      <td>0.0</td>\n",
       "      <td>Afghanistan</td>\n",
       "      <td>0.000000</td>\n",
       "    </tr>\n",
       "    <tr>\n",
       "      <th>1</th>\n",
       "      <td>-19</td>\n",
       "      <td>0.000000</td>\n",
       "      <td>0.000000</td>\n",
       "      <td>0</td>\n",
       "      <td>0.013391</td>\n",
       "      <td>0</td>\n",
       "      <td>0</td>\n",
       "      <td>0</td>\n",
       "      <td>0</td>\n",
       "      <td>0</td>\n",
       "      <td>0.0</td>\n",
       "      <td>Afghanistan</td>\n",
       "      <td>0.000000</td>\n",
       "    </tr>\n",
       "    <tr>\n",
       "      <th>2</th>\n",
       "      <td>-18</td>\n",
       "      <td>0.000000</td>\n",
       "      <td>0.000000</td>\n",
       "      <td>0</td>\n",
       "      <td>0.013391</td>\n",
       "      <td>0</td>\n",
       "      <td>0</td>\n",
       "      <td>0</td>\n",
       "      <td>0</td>\n",
       "      <td>0</td>\n",
       "      <td>0.0</td>\n",
       "      <td>Afghanistan</td>\n",
       "      <td>0.000000</td>\n",
       "    </tr>\n",
       "    <tr>\n",
       "      <th>3</th>\n",
       "      <td>-17</td>\n",
       "      <td>0.000000</td>\n",
       "      <td>0.000000</td>\n",
       "      <td>0</td>\n",
       "      <td>0.013391</td>\n",
       "      <td>0</td>\n",
       "      <td>0</td>\n",
       "      <td>0</td>\n",
       "      <td>0</td>\n",
       "      <td>0</td>\n",
       "      <td>0.0</td>\n",
       "      <td>Afghanistan</td>\n",
       "      <td>0.000000</td>\n",
       "    </tr>\n",
       "    <tr>\n",
       "      <th>4</th>\n",
       "      <td>-16</td>\n",
       "      <td>0.000000</td>\n",
       "      <td>0.000000</td>\n",
       "      <td>0</td>\n",
       "      <td>0.013391</td>\n",
       "      <td>0</td>\n",
       "      <td>0</td>\n",
       "      <td>0</td>\n",
       "      <td>0</td>\n",
       "      <td>0</td>\n",
       "      <td>0.0</td>\n",
       "      <td>Afghanistan</td>\n",
       "      <td>0.000000</td>\n",
       "    </tr>\n",
       "    <tr>\n",
       "      <th>...</th>\n",
       "      <td>...</td>\n",
       "      <td>...</td>\n",
       "      <td>...</td>\n",
       "      <td>...</td>\n",
       "      <td>...</td>\n",
       "      <td>...</td>\n",
       "      <td>...</td>\n",
       "      <td>...</td>\n",
       "      <td>...</td>\n",
       "      <td>...</td>\n",
       "      <td>...</td>\n",
       "      <td>...</td>\n",
       "      <td>...</td>\n",
       "    </tr>\n",
       "    <tr>\n",
       "      <th>95</th>\n",
       "      <td>75</td>\n",
       "      <td>0.000132</td>\n",
       "      <td>0.000898</td>\n",
       "      <td>0</td>\n",
       "      <td>0.012149</td>\n",
       "      <td>0</td>\n",
       "      <td>1</td>\n",
       "      <td>1</td>\n",
       "      <td>1</td>\n",
       "      <td>0</td>\n",
       "      <td>0.0</td>\n",
       "      <td>Afghanistan</td>\n",
       "      <td>0.000158</td>\n",
       "    </tr>\n",
       "    <tr>\n",
       "      <th>96</th>\n",
       "      <td>76</td>\n",
       "      <td>0.000134</td>\n",
       "      <td>0.000979</td>\n",
       "      <td>0</td>\n",
       "      <td>0.012143</td>\n",
       "      <td>0</td>\n",
       "      <td>1</td>\n",
       "      <td>1</td>\n",
       "      <td>1</td>\n",
       "      <td>0</td>\n",
       "      <td>0.0</td>\n",
       "      <td>Afghanistan</td>\n",
       "      <td>0.000131</td>\n",
       "    </tr>\n",
       "    <tr>\n",
       "      <th>97</th>\n",
       "      <td>77</td>\n",
       "      <td>0.000135</td>\n",
       "      <td>0.001053</td>\n",
       "      <td>0</td>\n",
       "      <td>0.012139</td>\n",
       "      <td>0</td>\n",
       "      <td>1</td>\n",
       "      <td>1</td>\n",
       "      <td>1</td>\n",
       "      <td>0</td>\n",
       "      <td>0.0</td>\n",
       "      <td>Afghanistan</td>\n",
       "      <td>0.000053</td>\n",
       "    </tr>\n",
       "    <tr>\n",
       "      <th>98</th>\n",
       "      <td>78</td>\n",
       "      <td>0.000137</td>\n",
       "      <td>0.001111</td>\n",
       "      <td>0</td>\n",
       "      <td>0.012137</td>\n",
       "      <td>0</td>\n",
       "      <td>1</td>\n",
       "      <td>1</td>\n",
       "      <td>1</td>\n",
       "      <td>0</td>\n",
       "      <td>0.0</td>\n",
       "      <td>Afghanistan</td>\n",
       "      <td>0.000131</td>\n",
       "    </tr>\n",
       "    <tr>\n",
       "      <th>99</th>\n",
       "      <td>79</td>\n",
       "      <td>0.000139</td>\n",
       "      <td>0.001169</td>\n",
       "      <td>0</td>\n",
       "      <td>0.012136</td>\n",
       "      <td>0</td>\n",
       "      <td>1</td>\n",
       "      <td>1</td>\n",
       "      <td>1</td>\n",
       "      <td>0</td>\n",
       "      <td>0.0</td>\n",
       "      <td>Afghanistan</td>\n",
       "      <td>0.000131</td>\n",
       "    </tr>\n",
       "  </tbody>\n",
       "</table>\n",
       "<p>100 rows × 13 columns</p>\n",
       "</div>"
      ],
      "text/plain": [
       "    Day of year(first case)  total_tests  ...  ﻿Country Name  fatality_rate\n",
       "0                       -20     0.000000  ...    Afghanistan       0.000000\n",
       "1                       -19     0.000000  ...    Afghanistan       0.000000\n",
       "2                       -18     0.000000  ...    Afghanistan       0.000000\n",
       "3                       -17     0.000000  ...    Afghanistan       0.000000\n",
       "4                       -16     0.000000  ...    Afghanistan       0.000000\n",
       "..                      ...          ...  ...            ...            ...\n",
       "95                       75     0.000132  ...    Afghanistan       0.000158\n",
       "96                       76     0.000134  ...    Afghanistan       0.000131\n",
       "97                       77     0.000135  ...    Afghanistan       0.000053\n",
       "98                       78     0.000137  ...    Afghanistan       0.000131\n",
       "99                       79     0.000139  ...    Afghanistan       0.000131\n",
       "\n",
       "[100 rows x 13 columns]"
      ]
     },
     "execution_count": 133,
     "metadata": {
      "tags": []
     },
     "output_type": "execute_result"
    }
   ],
   "source": [
    "#df_date_col = pd.DataFrame(df_raw[\"date\"].values)\n",
    "#df_date_col.columns = ['date']\n",
    "#df_raw.drop(['date'], axis=1, inplace=True)\n",
    "\n",
    "df_raw.head()"
   ]
  },
  {
   "cell_type": "markdown",
   "metadata": {
    "colab_type": "text",
    "id": "RjUWhXNMO4Tu"
   },
   "source": [
    "### Sliding Window\n",
    "* only run to add sliding window\n",
    "* one cell **creates method**\n",
    "* second cell **creates window**\n",
    "* not run for csv1 "
   ]
  },
  {
   "cell_type": "code",
   "execution_count": 26,
   "metadata": {
    "colab": {},
    "colab_type": "code",
    "id": "K2lXzYBt390v"
   },
   "outputs": [],
   "source": [
    "def create_window(df_org,target_attr_name):\n",
    "  df = df_org.copy() # operate on copy of frame\n",
    "  df_raw_sliding_window = pd.DataFrame() # create empty output df\n",
    "\n",
    "  for name,group in df.groupby('﻿Country Name'): # needs to be generated at country level\n",
    "    #print(f\"Generating sliding window for {name}\")\n",
    "    df_countrylevel = pd.DataFrame()\n",
    "\n",
    "    target_attr_col = pd.DataFrame(group[target_attr_name].values)\n",
    "    df_sliding_target_attr = pd.concat([target_attr_col.shift(5),target_attr_col.shift(4),\n",
    "                                      target_attr_col.shift(3),target_attr_col.shift(2),\n",
    "                                      target_attr_col.shift(1),target_attr_col], axis=1)\n",
    "    df_sliding_target_attr.columns = ['t-5','t-4','t-3','t-2','t-1',target_attr_name]\n",
    "\n",
    "    df_left = group.drop([target_attr_name], axis=1).reset_index(drop=True) #org df - target_attr\n",
    "    df_countrylevel = pd.concat([df_left, df_sliding_target_attr], axis=1) # append sliding window column wise\n",
    "\n",
    "    df_raw_sliding_window = pd.concat([df_raw_sliding_window,df_countrylevel], ignore_index=True) # append country level to out df row wise\n",
    "\n",
    "\n",
    "  return df_raw_sliding_window.dropna(subset=['t-5','t-4','t-3','t-2','t-1'],inplace=False) # dropna and return\n"
   ]
  },
  {
   "cell_type": "code",
   "execution_count": 27,
   "metadata": {
    "colab": {},
    "colab_type": "code",
    "id": "VbecYI_3VHhO"
   },
   "outputs": [],
   "source": [
    "# only run cell to add sliding window\n",
    "df_raw = create_window(df_raw, df_raw.columns[-1])"
   ]
  },
  {
   "cell_type": "code",
   "execution_count": 28,
   "metadata": {
    "colab": {
     "base_uri": "https://localhost:8080/",
     "height": 1000
    },
    "colab_type": "code",
    "id": "5_DsrVT0CnoE",
    "outputId": "95ee4e6c-8785-4ccf-e613-e5d6fcc88019"
   },
   "outputs": [
    {
     "name": "stdout",
     "output_type": "stream",
     "text": [
      "    Day of year(first case)  total_tests  active_cases  ...  t-2  t-1  fatality_rate\n",
      "5                       -15     0.000000  0.000000e+00  ...  0.0  0.0            0.0\n",
      "6                       -14     0.000000  0.000000e+00  ...  0.0  0.0            0.0\n",
      "7                       -13     0.000000  0.000000e+00  ...  0.0  0.0            0.0\n",
      "8                       -12     0.000000  0.000000e+00  ...  0.0  0.0            0.0\n",
      "9                       -11     0.000000  0.000000e+00  ...  0.0  0.0            0.0\n",
      "10                      -10     0.000000  0.000000e+00  ...  0.0  0.0            0.0\n",
      "11                       -9     0.000000  0.000000e+00  ...  0.0  0.0            0.0\n",
      "12                       -8     0.000000  0.000000e+00  ...  0.0  0.0            0.0\n",
      "13                       -7     0.000000  0.000000e+00  ...  0.0  0.0            0.0\n",
      "14                       -6     0.000000  0.000000e+00  ...  0.0  0.0            0.0\n",
      "15                       -5     0.000000  0.000000e+00  ...  0.0  0.0            0.0\n",
      "16                       -4     0.000000  0.000000e+00  ...  0.0  0.0            0.0\n",
      "17                       -3     0.000000  0.000000e+00  ...  0.0  0.0            0.0\n",
      "18                       -2     0.000000  0.000000e+00  ...  0.0  0.0            0.0\n",
      "19                       -1     0.000000  0.000000e+00  ...  0.0  0.0            0.0\n",
      "20                        0     0.000002  2.628691e-07  ...  0.0  0.0            0.0\n",
      "21                        1     0.000003  2.628691e-07  ...  0.0  0.0            0.0\n",
      "22                        2     0.000005  2.628691e-07  ...  0.0  0.0            0.0\n",
      "23                        3     0.000007  2.628691e-07  ...  0.0  0.0            0.0\n",
      "24                        4     0.000009  2.628691e-07  ...  0.0  0.0            0.0\n",
      "25                        5     0.000010  2.628691e-07  ...  0.0  0.0            0.0\n",
      "26                        6     0.000012  2.628691e-07  ...  0.0  0.0            0.0\n",
      "27                        7     0.000014  2.628691e-07  ...  0.0  0.0            0.0\n",
      "28                        8     0.000016  2.628691e-07  ...  0.0  0.0            0.0\n",
      "29                        9     0.000017  2.628691e-07  ...  0.0  0.0            0.0\n",
      "30                       10     0.000019  2.628691e-07  ...  0.0  0.0            0.0\n",
      "31                       11     0.000021  2.628691e-07  ...  0.0  0.0            0.0\n",
      "32                       12     0.000023  2.628691e-07  ...  0.0  0.0            0.0\n",
      "33                       13     0.000024  1.051476e-06  ...  0.0  0.0            0.0\n",
      "34                       14     0.000026  1.051476e-06  ...  0.0  0.0            0.0\n",
      "\n",
      "[30 rows x 17 columns]\n",
      "<class 'pandas.core.frame.DataFrame'>\n",
      "Int64Index: 22545 entries, 5 to 23219\n",
      "Data columns (total 17 columns):\n",
      " #   Column                       Non-Null Count  Dtype  \n",
      "---  ------                       --------------  -----  \n",
      " 0   Day of year(first case)      22545 non-null  int64  \n",
      " 1   total_tests                  22545 non-null  float64\n",
      " 2   active_cases                 22545 non-null  float64\n",
      " 3   travel_limit                 22545 non-null  int64  \n",
      " 4   available_beds               22545 non-null  float64\n",
      " 5   stay_home                    22545 non-null  int64  \n",
      " 6   any_gathering_restrict       22545 non-null  int64  \n",
      " 7   any_business_closed          22545 non-null  int64  \n",
      " 8   educational_fac_closed       22545 non-null  int64  \n",
      " 9   all_non-ess_business_closed  22545 non-null  int64  \n",
      " 10  ﻿Country Name                22545 non-null  object \n",
      " 11  t-5                          22545 non-null  float64\n",
      " 12  t-4                          22545 non-null  float64\n",
      " 13  t-3                          22545 non-null  float64\n",
      " 14  t-2                          22545 non-null  float64\n",
      " 15  t-1                          22545 non-null  float64\n",
      " 16  fatality_rate                22545 non-null  float64\n",
      "dtypes: float64(9), int64(7), object(1)\n",
      "memory usage: 3.1+ MB\n",
      "None\n"
     ]
    }
   ],
   "source": [
    "print(df_raw.head())\n",
    "print(df_raw.info())"
   ]
  },
  {
   "cell_type": "markdown",
   "metadata": {
    "colab_type": "text",
    "id": "IDC8xKp-Q9GS"
   },
   "source": [
    "### Data Splitting\n",
    "* drops country\n",
    "* splits df into features and labels\n",
    "* uses sklearn.model_selection.train_test_split to generate training and test set"
   ]
  },
  {
   "cell_type": "code",
   "execution_count": null,
   "metadata": {
    "colab": {},
    "colab_type": "code",
    "id": "JXPHZaHTVOZa"
   },
   "outputs": [],
   "source": [
    "from sklearn.model_selection import train_test_split\n",
    "\n",
    "df_raw.drop(['﻿Country Name'], axis=1, inplace=True)\n",
    "\n",
    "features = df_raw.iloc[:, 0:-1]\n",
    "labels = df_raw.iloc[:, [-1]]\n",
    "print(features)\n",
    "print(labels)\n",
    "\n",
    "x_train, x_test, y_train, y_test = train_test_split(features, labels, test_size=0.2, shuffle=True, random_state=42)\n",
    "\n",
    "x_train, y_train = np.array(x_train), np.array(y_train)\n",
    "x_test, y_test = np.array(x_test), np.array(y_test)\n",
    "\n"
   ]
  },
  {
   "cell_type": "code",
   "execution_count": 20,
   "metadata": {
    "colab": {
     "base_uri": "https://localhost:8080/",
     "height": 51
    },
    "colab_type": "code",
    "id": "aCEyEO4mWnPi",
    "outputId": "0a9b644c-3309-4c5e-cdde-968ae399ac80"
   },
   "outputs": [
    {
     "name": "stdout",
     "output_type": "stream",
     "text": [
      "train examples: 18036\n",
      "test examples: 4509\n"
     ]
    }
   ],
   "source": [
    "print(f'train examples: {len(x_train)}')\n",
    "print(f'test examples: {len(x_test)}')"
   ]
  },
  {
   "cell_type": "markdown",
   "metadata": {
    "colab_type": "text",
    "id": "pL3tyL5ieVt1"
   },
   "source": [
    "## Models\n",
    "* predictions from network saved as y_pred_[modelname]"
   ]
  },
  {
   "cell_type": "code",
   "execution_count": 12,
   "metadata": {
    "colab": {},
    "colab_type": "code",
    "id": "sJQb5fKLeU_g"
   },
   "outputs": [],
   "source": [
    "# Linear Regression\n",
    "# https://scikit-learn.org/stable/modules/generated/sklearn.linear_model.LinearRegression.html\n",
    "from sklearn.linear_model import LinearRegression\n",
    "\n",
    "linear_reg = LinearRegression(fit_intercept = False, n_jobs=-1)\n",
    "linear_reg.fit(x_train, y_train)\n",
    "y_pred_LR = linear_reg.predict(x_test)"
   ]
  },
  {
   "cell_type": "code",
   "execution_count": 13,
   "metadata": {
    "colab": {
     "base_uri": "https://localhost:8080/",
     "height": 71
    },
    "colab_type": "code",
    "id": "MQZfVFG3eb2o",
    "outputId": "b8d46b25-b146-4f93-d137-43b7349ea1c3"
   },
   "outputs": [
    {
     "name": "stderr",
     "output_type": "stream",
     "text": [
      "/usr/local/lib/python3.6/dist-packages/ipykernel_launcher.py:7: DataConversionWarning: A column-vector y was passed when a 1d array was expected. Please change the shape of y to (n_samples,), for example using ravel().\n",
      "  import sys\n"
     ]
    }
   ],
   "source": [
    "# Random Forest\n",
    "# https://scikit-learn.org/stable/modules/generated/sklearn.ensemble.RandomForestRegressor.html\n",
    "from sklearn.ensemble import RandomForestRegressor\n",
    "\n",
    "rf = RandomForestRegressor(random_state=42)\n",
    "rf.fit(x_train, y_train)\n",
    "y_pred_RF = rf.predict(x_test)"
   ]
  },
  {
   "cell_type": "code",
   "execution_count": 31,
   "metadata": {
    "colab": {
     "base_uri": "https://localhost:8080/",
     "height": 71
    },
    "colab_type": "code",
    "id": "JMiZGzcHecLB",
    "outputId": "35afd313-18e7-4670-b5f7-f179ecad7f0f"
   },
   "outputs": [
    {
     "name": "stderr",
     "output_type": "stream",
     "text": [
      "/usr/local/lib/python3.6/dist-packages/sklearn/neural_network/_multilayer_perceptron.py:1342: DataConversionWarning: A column-vector y was passed when a 1d array was expected. Please change the shape of y to (n_samples, ), for example using ravel().\n",
      "  y = column_or_1d(y, warn=True)\n"
     ]
    }
   ],
   "source": [
    "# Neural Network - MLP\n",
    "# https://scikit-learn.org/stable/modules/generated/sklearn.neural_network.MLPRegressor.html\n",
    "from sklearn.neural_network import MLPRegressor\n",
    "\n",
    "neural_MLP = MLPRegressor(random_state=42, max_iter=500)\n",
    "neural_MLP.fit(x_train, y_train)\n",
    "y_pred_MLP = neural_MLP.predict(x_test)\n"
   ]
  },
  {
   "cell_type": "code",
   "execution_count": null,
   "metadata": {
    "colab": {},
    "colab_type": "code",
    "id": "E2Wl1eh9ecai"
   },
   "outputs": [],
   "source": [
    "# Neural Network - LSTM\n",
    "# Tensorflow imports\n",
    "import tensorflow \n",
    "from tensorflow.keras.models import Sequential\n",
    "from tensorflow.keras.layers import Dense, LSTM\n",
    "from sklearn.metrics import r2_score\n",
    "\n",
    "# method to wrap network setup into simple call\n",
    "def init_LSTM(hidden_size, input_length, output_length, activation='relu', optimizer='adam', loss='mean_squared_error'):\n",
    "  model = Sequential()\n",
    "  model.add(LSTM(units=hidden_size, return_sequences=True, input_shape=(1, input_length)))\n",
    "  model.add(LSTM(units=hidden_size, return_sequences=True))\n",
    "  model.add(LSTM(units=hidden_size))\n",
    "  model.add(Dense(units=output_length, activation=activation))\n",
    "  model.compile(optimizer=optimizer, loss=loss)\n",
    "\n",
    "  model.score=r2_score\n",
    "\n",
    "  return model\n",
    "\n",
    "# correct shape for tf\n",
    "x_train_LSTM = np.reshape(x_train, (-1,1, x_train.shape[1]))\n",
    "x_test_LSTM = np.reshape(x_test, (-1,1, x_test.shape[1]))\n",
    "\n",
    "#same process as sklearn library\n",
    "lstm_model = init_LSTM(50,x_train_LSTM.shape[2], y_train.shape[1])\n",
    "lstm_model.fit(x_train_LSTM, y_train, epochs=30, batch_size=50, validation_split=.05,use_multiprocessing=True)\n",
    "y_pred_LSTM = lstm_model.predict(x_test_LSTM,verbose=0,use_multiprocessing=True)"
   ]
  },
  {
   "cell_type": "markdown",
   "metadata": {
    "colab_type": "text",
    "id": "DfKq3YaXe1Ab"
   },
   "source": [
    "### Model Accuracy\n",
    "* Will be used to compare above models based on ground truth and y_pred_[modelname]\n",
    "* all models manipulate y by scaling output by 1000 (can be done as data was normalized by decimal scaling in KNIME)"
   ]
  },
  {
   "cell_type": "code",
   "execution_count": 12,
   "metadata": {
    "colab": {},
    "colab_type": "code",
    "id": "E9cLCYIwhYxd"
   },
   "outputs": [],
   "source": [
    "from sklearn.metrics import mean_absolute_error\n",
    "from sklearn.metrics import mean_squared_error\n",
    "import matplotlib.pyplot as plt\n",
    "import pylab"
   ]
  },
  {
   "cell_type": "code",
   "execution_count": null,
   "metadata": {
    "colab": {},
    "colab_type": "code",
    "id": "_u51JDRchZaC"
   },
   "outputs": [],
   "source": [
    "# Linear Regression\n",
    "y_test_shifted = y_test * 1000\n",
    "y_pred_LR_shifted = y_pred_LR * 1000\n",
    "\n",
    "# Statistical Measures\n",
    "print(f'R squared: {linear_reg.score(x_test, y_test)}')\n",
    "print() \n",
    "print('Mean squared error: %.2f'% mean_squared_error(y_test_shifted, y_pred_LR_shifted))\n",
    "print('Root Mean squared error: %.2f'% mean_squared_error(y_test_shifted, y_pred_LR_shifted) ** 0.5)\n",
    "print('Mean absolute error: %.2f'% mean_absolute_error(y_test_shifted, y_pred_LR_shifted)) \n",
    "print()\n",
    "\n",
    "# Ground truth vs Predictions Scatter\n",
    "x=range(len(x_test))\n",
    "plt.scatter(x,y_test_shifted, label = 'Actual')\n",
    "plt.scatter(x,y_pred_LR_shifted,label = 'Predicted')\n",
    "plt.xlabel('Observations')\n",
    "plt.legend()\n",
    "plt.show()\n",
    "print()\n",
    "\n",
    "# Residual error plots\n",
    "g=plt.plot(y_test_shifted - y_pred_LR_shifted,marker='o',linestyle='')\n",
    "print()\n",
    "\n",
    "# Ground truth vs Predictions Bar\n",
    "df4 = pd.DataFrame({'Actual': y_test_shifted.flatten(), 'Predicted': y_pred_LR_shifted.flatten()})\n",
    "df4\n",
    "df5 = df4.head(50)\n",
    "df5.plot(kind='bar',figsize=(16,10))\n",
    "plt.grid(which='major', linestyle='-', linewidth='0.5', color='green')\n",
    "plt.grid(which='minor', linestyle=':', linewidth='0.5', color='black')\n",
    "plt.show()"
   ]
  },
  {
   "cell_type": "code",
   "execution_count": null,
   "metadata": {
    "colab": {},
    "colab_type": "code",
    "id": "8wMUeIBCafxJ"
   },
   "outputs": [],
   "source": [
    "# Random Forest\n",
    "y_test_shifted = y_test * 1000\n",
    "y_pred_RF_shifted = y_pred_RF * 1000\n",
    "\n",
    "# Statistical Measures\n",
    "print(f'R squared: {rf.score(x_test, y_test)}')\n",
    "print() \n",
    "print('Mean squared error: %.2f'% mean_squared_error(y_test_shifted, y_pred_RF_shifted))\n",
    "print('Root Mean squared error: %.2f'% mean_squared_error(y_test_shifted, y_pred_RF_shifted) ** 0.5)\n",
    "print('Mean absolute error: %.2f'% mean_absolute_error(y_test_shifted, y_pred_RF_shifted))\n",
    "\n",
    "# Ground truth vs Predictions Scatter\n",
    "x=range(len(x_test))\n",
    "plt.scatter(x,y_test_shifted, label = 'Actual')\n",
    "plt.scatter(x,y_pred_RF_shifted,label = 'Predicted')\n",
    "plt.xlabel('Observations')\n",
    "plt.legend()\n",
    "plt.show()\n",
    "print()\n",
    "\n",
    "# Residual error plots\n",
    "g=plt.plot(y_test_shifted.flatten() - y_pred_RF_shifted.flatten(),marker='o',linestyle='')\n",
    "print()\n",
    "\n",
    "# Ground truth vs Predictions Bar\n",
    "df4 = pd.DataFrame({'Actual': y_test_shifted.flatten(), 'Predicted': y_pred_RF_shifted.flatten()})\n",
    "df4\n",
    "df5 = df4.head(50)\n",
    "df5.plot(kind='bar',figsize=(16,10))\n",
    "plt.grid(which='major', linestyle='-', linewidth='0.5', color='green')\n",
    "plt.grid(which='minor', linestyle=':', linewidth='0.5', color='black')\n",
    "plt.show()"
   ]
  },
  {
   "cell_type": "code",
   "execution_count": null,
   "metadata": {
    "colab": {},
    "colab_type": "code",
    "id": "do60q0hvsV2K"
   },
   "outputs": [],
   "source": [
    "# Multi-layer Perceptron Neural Network\n",
    "y_test_shifted = y_test * 1000\n",
    "y_pred_MLP_shifted = y_pred_MLP * 1000\n",
    "\n",
    "# Statistical Measures\n",
    "print(f'R squared: {neural_MLP.score(x_test, y_test)}')\n",
    "print() \n",
    "print('Mean squared error: %.2f'% mean_squared_error(y_test_shifted, y_pred_MLP_shifted))\n",
    "print('Root Mean squared error: %.2f'% mean_squared_error(y_test_shifted, y_pred_MLP_shifted) ** 0.5)\n",
    "print('Mean absolute error: %.2f'% mean_absolute_error(y_test_shifted, y_pred_MLP_shifted))\n",
    "\n",
    "# Ground truth vs Predictions Scatter\n",
    "x=range(len(x_test))\n",
    "plt.scatter(x,y_test_shifted, label = 'Actual')\n",
    "plt.scatter(x,y_pred_MLP_shifted,label = 'Predicted')\n",
    "plt.xlabel('Observations')\n",
    "plt.legend()\n",
    "plt.show()\n",
    "print()\n",
    "\n",
    "# Residual error plots\n",
    "g=plt.plot(y_test_shifted.flatten() - y_pred_MLP_shifted.flatten(),marker='o',linestyle='')\n",
    "print()\n",
    "\n",
    "# Ground truth vs Predictions Bar\n",
    "df4 = pd.DataFrame({'Actual': y_test_shifted.flatten(), 'Predicted': y_pred_MLP_shifted.flatten()})\n",
    "df4\n",
    "df5 = df4.head(50)\n",
    "df5.plot(kind='bar',figsize=(16,10))\n",
    "plt.grid(which='major', linestyle='-', linewidth='0.5', color='green')\n",
    "plt.grid(which='minor', linestyle=':', linewidth='0.5', color='black')\n",
    "plt.show()"
   ]
  },
  {
   "cell_type": "code",
   "execution_count": 46,
   "metadata": {
    "colab": {
     "base_uri": "https://localhost:8080/",
     "height": 1000
    },
    "colab_type": "code",
    "id": "ttkZ1ZTcMYWO",
    "outputId": "bf89a881-f6b1-46ce-b0cf-8e53a62befb5"
   },
   "outputs": [
    {
     "name": "stdout",
     "output_type": "stream",
     "text": [
      "R squared: 0.9935853271607126\n",
      "\n",
      "Mean squared error: 1.41\n",
      "Root Mean squared error: 1.19\n",
      "Mean absolute error: 0.30\n",
      "(-1018396.2843182898, -1021796.2307382263)\n"
     ]
    },
    {
     "data": {
      "image/png": "[encoded data removed]",
      "text/plain": [
       "<Figure size 432x288 with 1 Axes>"
      ]
     },
     "metadata": {
      "needs_background": "light",
      "tags": []
     },
     "output_type": "display_data"
    },
    {
     "name": "stdout",
     "output_type": "stream",
     "text": [
      "\n",
      "\n"
     ]
    },
    {
     "data": {
      "image/png": "[encoded data removed]",
      "text/plain": [
       "<Figure size 432x288 with 1 Axes>"
      ]
     },
     "metadata": {
      "needs_background": "light",
      "tags": []
     },
     "output_type": "display_data"
    },
    {
     "data": {
      "image/png": "[encoded data removed]",
      "text/plain": [
       "<Figure size 1152x720 with 1 Axes>"
      ]
     },
     "metadata": {
      "needs_background": "light",
      "tags": []
     },
     "output_type": "display_data"
    }
   ],
   "source": [
    "# Long Short-term Memory Neural Network\n",
    "y_test_shifted = y_test * 1000\n",
    "y_pred_LSTM_shifted = y_pred_LSTM * 1000\n",
    "\n",
    "# Statistical Measures\n",
    "print(f'R squared: {lstm_model.score(y_test_shifted, y_pred_LSTM_shifted)}')\n",
    "print() \n",
    "print('Mean squared error: %.2f'% mean_squared_error(y_test_shifted, y_pred_LSTM_shifted))\n",
    "print('Root Mean squared error: %.2f'% mean_squared_error(y_test_shifted, y_pred_LSTM_shifted) ** 0.5)\n",
    "print('Mean absolute error: %.2f'% mean_absolute_error(y_test_shifted, y_pred_LSTM_shifted))\n",
    "\n",
    "# Ground truth vs Predictions Scatter\n",
    "x=range(len(x_test))\n",
    "plt.scatter(x,y_test_shifted, label = 'Actual')\n",
    "plt.scatter(x,y_pred_LSTM_shifted,label = 'Predicted')\n",
    "plt.xlabel('Observations')\n",
    "plt.legend()\n",
    "plt.show()\n",
    "print()\n",
    "\n",
    "# Residual error plots\n",
    "g=plt.plot(y_test_shifted - y_pred_LSTM_shifted,marker='o',linestyle='')\n",
    "print()\n",
    "\n",
    "# Ground truth vs Predictions Bar\n",
    "df4 = pd.DataFrame({'Actual': y_test_shifted.flatten(), 'Predicted': y_pred_LSTM_shifted.flatten()})\n",
    "df4\n",
    "df5 = df4.head(50)\n",
    "df5.plot(kind='bar',figsize=(16,10))\n",
    "plt.grid(which='major', linestyle='-', linewidth='0.5', color='green')\n",
    "plt.grid(which='minor', linestyle=':', linewidth='0.5', color='black')\n",
    "plt.show()"
   ]
  },
  {
   "cell_type": "markdown",
   "metadata": {
    "colab_type": "text",
    "id": "AW1VMW2cTgFS"
   },
   "source": [
    "### Feature Importance"
   ]
  },
  {
   "cell_type": "code",
   "execution_count": 22,
   "metadata": {
    "colab": {
     "base_uri": "https://localhost:8080/",
     "height": 272
    },
    "colab_type": "code",
    "id": "Qz9uAZS0SNqh",
    "outputId": "b8e62d47-3845-4f6e-a5cb-96e7432ea17c"
   },
   "outputs": [
    {
     "name": "stdout",
     "output_type": "stream",
     "text": [
      "Day of year(first case): -4.185190795315903e-09\n",
      "total_tests: -0.000715861271739492\n",
      "active_cases: 0.002348658172925342\n",
      "travel_limit: -4.489726216292279e-06\n",
      "available_beds: 2.0586789003841952e-05\n",
      "stay_home: -8.145798072978997e-07\n",
      "any_gathering_restrict: 4.486295417317288e-06\n",
      "any_business_closed: 3.7374024258992125e-06\n",
      "educational_fac_closed: 3.2008225869578286e-07\n",
      "all_non-ess_business_closed: 3.624919598576139e-06\n",
      "t-5: 0.027963195926062268\n",
      "t-4: -0.4279612645373682\n",
      "t-3: 0.23166306539974957\n",
      "t-2: -0.024599214793439052\n",
      "t-1: 1.1930070462150788\n"
     ]
    }
   ],
   "source": [
    "# Linear Regression Feature Importance \n",
    "feat_imp = linear_reg.coef_.flatten()\n",
    "columns = df_raw.columns\n",
    "for i in range(15):\n",
    "  print(f\"{columns[i]}: {feat_imp[i]}\") "
   ]
  },
  {
   "cell_type": "code",
   "execution_count": 24,
   "metadata": {
    "colab": {
     "base_uri": "https://localhost:8080/",
     "height": 265
    },
    "colab_type": "code",
    "id": "2Ot4qFb2Yiwm",
    "outputId": "5f0a3f16-5cd6-441a-9b97-afe3326ec099"
   },
   "outputs": [
    {
     "data": {
      "image/png": "[encoded data removed]",
      "text/plain": [
       "<Figure size 432x288 with 1 Axes>"
      ]
     },
     "metadata": {
      "needs_background": "light",
      "tags": []
     },
     "output_type": "display_data"
    }
   ],
   "source": [
    "# Linear Regression Feature Importance Plot\n",
    "plt.bar([x for x in range(len(feat_imp))], feat_imp)\n",
    "plt.show()"
   ]
  },
  {
   "cell_type": "code",
   "execution_count": 27,
   "metadata": {
    "colab": {
     "base_uri": "https://localhost:8080/",
     "height": 272
    },
    "colab_type": "code",
    "id": "rV2MWFb5NcUt",
    "outputId": "6ac80c60-86bb-4262-c588-66f797ec04c4"
   },
   "outputs": [
    {
     "name": "stdout",
     "output_type": "stream",
     "text": [
      "Day of year(first case): 0.0007724645248053082\n",
      "total_tests: 0.0004588675915698965\n",
      "active_cases: 0.0001953719665540194\n",
      "travel_limit: 1.5640739494460845e-07\n",
      "available_beds: 0.022393954016942635\n",
      "stay_home: 1.3516445621112398e-06\n",
      "any_gathering_restrict: 1.5263105102454666e-07\n",
      "any_business_closed: 2.6348980383880213e-07\n",
      "educational_fac_closed: 4.601321724470143e-07\n",
      "all_non-ess_business_closed: 2.7783828777495056e-06\n",
      "t-5: 0.021710268844833642\n",
      "t-4: 0.03054912118917542\n",
      "t-3: 0.036979466189745985\n",
      "t-2: 0.061895476813633776\n",
      "t-1: 0.8250398461748771\n"
     ]
    }
   ],
   "source": [
    "# Random Forest Feature Importance\n",
    "feat_imp = rf.feature_importances_.flatten()\n",
    "columns = df_raw.columns\n",
    "for i in range(15):\n",
    "  print(f\"{columns[i]}: {feat_imp[i]}\") "
   ]
  },
  {
   "cell_type": "code",
   "execution_count": 28,
   "metadata": {
    "colab": {
     "base_uri": "https://localhost:8080/",
     "height": 265
    },
    "colab_type": "code",
    "id": "MB5pF-i8ZTP2",
    "outputId": "88e01646-5b6f-40bd-d0e1-b77a76ad85be"
   },
   "outputs": [
    {
     "data": {
      "image/png": "[encoded data removed]",
      "text/plain": [
       "<Figure size 432x288 with 1 Axes>"
      ]
     },
     "metadata": {
      "needs_background": "light",
      "tags": []
     },
     "output_type": "display_data"
    }
   ],
   "source": [
    "# Random Forest Feature Importance Plot\n",
    "plt.bar([x for x in range(len(feat_imp))], feat_imp)\n",
    "plt.show()"
   ]
  },
  {
   "cell_type": "markdown",
   "metadata": {
    "colab_type": "text",
    "id": "VEp28UbPyYc_"
   },
   "source": [
    "## When will Each Country run out of beds?\n",
    "* future data analysis"
   ]
  },
  {
   "cell_type": "markdown",
   "metadata": {
    "colab_type": "text",
    "id": "79Sgo7gFVYFD"
   },
   "source": [
    "### Data loading"
   ]
  },
  {
   "cell_type": "code",
   "execution_count": null,
   "metadata": {
    "colab": {},
    "colab_type": "code",
    "id": "5v0PXwoSyc63"
   },
   "outputs": [],
   "source": [
    "# load current data for training and future date for x_test\n",
    "df_beds = pd.read_csv(\"data/BMIF2.csv\") # beds as target attribute\n",
    "df_beds_future = pd.read_csv(\"data/BMIF4_future_trends.csv\") # future data (till start of November 2020)\n",
    "df_beds = create_window(df_beds,'available_beds')\n",
    "df_beds_future = create_window(df_beds_future,'available_beds')\n",
    "\n",
    "df_fat = pd.read_csv(\"data/BMIF3.csv\") # fatality rate as target attribute\n",
    "df_fat_future = pd.read_csv(\"data/BMIF5_future_trends.csv\")\n",
    "df_fat = create_window(df_fat,'fatality_rate')\n",
    "df_fat_future = create_window(df_fat_future,'fatality_rate')\n",
    "\n",
    "\n",
    "#drop unneeded data, save country to reappend after\n",
    "df_country_col = df_fat_future['﻿Country Name'].values\n",
    "df_beds.drop(['﻿Country Name'], axis=1, inplace=True)\n",
    "df_beds_future.drop(['﻿Country Name','available_beds'], axis=1, inplace=True)\n",
    "df_fat.drop(['﻿Country Name'], axis=1, inplace=True)\n",
    "df_fat_future.drop(['﻿Country Name','fatality_rate'], axis=1, inplace=True)\n",
    "\n",
    "\n",
    "features = df_beds.iloc[:, 0:-1]\n",
    "labels = df_beds.iloc[:, [-1]]\n",
    "# ignore returned test sets and data split exactly the same way as above training\n",
    "x_beds_train, _, y_beds_train, _ = train_test_split(features, labels, test_size=0.2, shuffle=True, random_state=42)\n",
    "x_beds_train, y_beds_train = np.array(x_beds_train), np.array(y_beds_train)\n",
    "\n",
    "\n",
    "features = df_fat.iloc[:, 0:-1]\n",
    "labels = df_fat.iloc[:, [-1]]\n",
    "x_fat_train, _, y_fat_train, _ = train_test_split(features, labels, test_size=0.2, shuffle=True, random_state=42)\n",
    "x_fat_train, y_fat_train = np.array(x_fat_train), np.array(y_fat_train)\n",
    "\n",
    "\n",
    "# future dataset is now our test data\n",
    "x_beds_future = np.array(df_beds_future)\n",
    "x_fat_future = np.array(df_fat_future)"
   ]
  },
  {
   "cell_type": "markdown",
   "metadata": {
    "colab_type": "text",
    "id": "i4TDoHJ5Vedq"
   },
   "source": [
    "#### Data Preview"
   ]
  },
  {
   "cell_type": "code",
   "execution_count": null,
   "metadata": {
    "colab": {},
    "colab_type": "code",
    "id": "5QgnYSSKYH53"
   },
   "outputs": [],
   "source": [
    "print(df_beds.info())\n",
    "print(df_beds_future.info())\n",
    "print(df_fat.info())\n",
    "print(df_fat_future.info())"
   ]
  },
  {
   "cell_type": "markdown",
   "metadata": {
    "colab_type": "text",
    "id": "ptio4sm8Vlwl"
   },
   "source": [
    "### Training"
   ]
  },
  {
   "cell_type": "code",
   "execution_count": null,
   "metadata": {
    "colab": {},
    "colab_type": "code",
    "id": "u8dZk14c2SD4"
   },
   "outputs": [],
   "source": [
    "# Linear Regression to predict future number of available beds trained on csv2 + sliding window\n",
    "# https://scikit-learn.org/stable/modules/generated/sklearn.linear_model.LinearRegression.html\n",
    "from sklearn.linear_model import LinearRegression\n",
    "\n",
    "linear_reg_future = LinearRegression(fit_intercept = False, n_jobs=-1)\n",
    "linear_reg_future.fit(x_beds_train, y_beds_train)\n",
    "y_pred_beds_future = linear_reg_future.predict(x_beds_future)"
   ]
  },
  {
   "cell_type": "code",
   "execution_count": null,
   "metadata": {
    "colab": {
     "base_uri": "https://localhost:8080/",
     "height": 391
    },
    "colab_type": "code",
    "id": "DccnbnS3bH2j",
    "outputId": "2ebbfe00-a2e9-4a54-e594-ae107bd33c08"
   },
   "outputs": [
    {
     "name": "stdout",
     "output_type": "stream",
     "text": [
      "<class 'pandas.core.frame.DataFrame'>\n",
      "Int64Index: 10716 entries, 5 to 11285\n",
      "Data columns (total 15 columns):\n",
      " #   Column                       Non-Null Count  Dtype  \n",
      "---  ------                       --------------  -----  \n",
      " 0   Day of year(first case)      10716 non-null  int64  \n",
      " 1   total_tests                  10716 non-null  float64\n",
      " 2   active_cases                 10716 non-null  float64\n",
      " 3   travel_limit                 10716 non-null  int64  \n",
      " 4   available_beds               10716 non-null  float64\n",
      " 5   stay_home                    10716 non-null  int64  \n",
      " 6   any_gathering_restrict       10716 non-null  int64  \n",
      " 7   any_business_closed          10716 non-null  int64  \n",
      " 8   educational_fac_closed       10716 non-null  int64  \n",
      " 9   all_non-ess_business_closed  10716 non-null  int64  \n",
      " 10  t-5                          10716 non-null  float64\n",
      " 11  t-4                          10716 non-null  float64\n",
      " 12  t-3                          10716 non-null  float64\n",
      " 13  t-2                          10716 non-null  float64\n",
      " 14  t-1                          10716 non-null  float64\n",
      "dtypes: float64(8), int64(7)\n",
      "memory usage: 1.3 MB\n"
     ]
    }
   ],
   "source": [
    "# update fatality future df and test set with available beds inserted at same pos as org dataset\n",
    "beds_idx_pos = df_fat.columns.get_loc('available_beds')\n",
    "df_fat_future.insert(loc=beds_idx_pos, column='available_beds', value=y_pred_beds_future)\n",
    "df_fat_future.info()\n",
    "\n",
    "x_fat_future = np.array(df_fat_future)"
   ]
  },
  {
   "cell_type": "code",
   "execution_count": null,
   "metadata": {
    "colab": {},
    "colab_type": "code",
    "id": "o2zFoCnCb8dV"
   },
   "outputs": [],
   "source": [
    "# Linear Regression to predict future number of fatality rate trained on csv3 + sliding window\n",
    "# https://scikit-learn.org/stable/modules/generated/sklearn.linear_model.LinearRegression.html\n",
    "from sklearn.linear_model import LinearRegression\n",
    "\n",
    "linear_reg_future = LinearRegression(fit_intercept = False, n_jobs=-1)\n",
    "linear_reg_future.fit(x_fat_train, y_fat_train)\n",
    "y_pred_fat_future = linear_reg_future.predict(x_fat_future)"
   ]
  },
  {
   "cell_type": "markdown",
   "metadata": {
    "colab_type": "text",
    "id": "OfkXnGUkV9IF"
   },
   "source": [
    "### Data Export\n",
    "* insert predictions and country into df\n",
    "* save as csv for analysis in tableau"
   ]
  },
  {
   "cell_type": "code",
   "execution_count": null,
   "metadata": {
    "colab": {},
    "colab_type": "code",
    "id": "CCf9qMzQdEiI"
   },
   "outputs": [],
   "source": [
    "df_fat_future.insert(loc=0, column='Country',value=df_country_col)\n",
    "df_fat_future.insert(loc=len(df_fat_future.columns), column='fatality',value=y_pred_fat_future)"
   ]
  },
  {
   "cell_type": "code",
   "execution_count": null,
   "metadata": {
    "colab": {
     "base_uri": "https://localhost:8080/",
     "height": 442
    },
    "colab_type": "code",
    "id": "4CByN2M5e6Ys",
    "outputId": "be4e4a59-adc6-4dee-c777-7220e4cc9a1c"
   },
   "outputs": [
    {
     "name": "stdout",
     "output_type": "stream",
     "text": [
      "<class 'pandas.core.frame.DataFrame'>\n",
      "Int64Index: 10716 entries, 5 to 11285\n",
      "Data columns (total 17 columns):\n",
      " #   Column                       Non-Null Count  Dtype  \n",
      "---  ------                       --------------  -----  \n",
      " 0   Country                      10716 non-null  object \n",
      " 1   Day of year(first case)      10716 non-null  int64  \n",
      " 2   total_tests                  10716 non-null  float64\n",
      " 3   active_cases                 10716 non-null  float64\n",
      " 4   travel_limit                 10716 non-null  int64  \n",
      " 5   available_beds               10716 non-null  float64\n",
      " 6   stay_home                    10716 non-null  int64  \n",
      " 7   any_gathering_restrict       10716 non-null  int64  \n",
      " 8   any_business_closed          10716 non-null  int64  \n",
      " 9   educational_fac_closed       10716 non-null  int64  \n",
      " 10  all_non-ess_business_closed  10716 non-null  int64  \n",
      " 11  t-5                          10716 non-null  float64\n",
      " 12  t-4                          10716 non-null  float64\n",
      " 13  t-3                          10716 non-null  float64\n",
      " 14  t-2                          10716 non-null  float64\n",
      " 15  t-1                          10716 non-null  float64\n",
      " 16  fatality                     10716 non-null  float64\n",
      "dtypes: float64(9), int64(7), object(1)\n",
      "memory usage: 1.5+ MB\n",
      "None\n"
     ]
    }
   ],
   "source": [
    "print(df_fat_future.info())\n",
    "df_fat_future.to_csv(\"data/future_predicted.csv\",index=False)"
   ]
  }
 ],
 "metadata": {
  "colab": {
   "collapsed_sections": [],
   "name": "BMIF802_project",
   "provenance": [],
   "toc_visible": true
  },
  "kernelspec": {
   "display_name": "Python 3",
   "language": "python",
   "name": "python3"
  },
  "language_info": {
   "codemirror_mode": {
    "name": "ipython",
    "version": 3
   },
   "file_extension": ".py",
   "mimetype": "text/x-python",
   "name": "python",
   "nbconvert_exporter": "python",
   "pygments_lexer": "ipython3",
   "version": "3.7.6"
  }
 },
 "nbformat": 4,
 "nbformat_minor": 1
}
